{
 "cells": [
  {
   "cell_type": "code",
   "execution_count": 2,
   "id": "dea222ce-24f2-4345-99e1-ecdb5ec1f3a7",
   "metadata": {},
   "outputs": [
    {
     "data": {
      "text/plain": [
       "'Buat Implementasi dengan menggunakan python untuk menghitung Fuzzy Inference System berikut dengan metode tsukamoto'"
      ]
     },
     "execution_count": 2,
     "metadata": {},
     "output_type": "execute_result"
    }
   ],
   "source": [
    "#Soal\n",
    "(\"Buat Implementasi dengan menggunakan python untuk menghitung Fuzzy Inference System berikut dengan metode tsukamoto\")\n"
   ]
  },
  {
   "cell_type": "code",
   "execution_count": 3,
   "id": "5fa6f430-dda8-440d-aa7c-a89b214d8096",
   "metadata": {},
   "outputs": [
    {
     "name": "stdout",
     "output_type": "stream",
     "text": [
      "Output Produksi: 4033.33\n"
     ]
    }
   ],
   "source": [
    "#JAWABAN\n",
    "\n",
    "import numpy as np\n",
    "\n",
    "# Fungsi Keanggotaan Fuzzy\n",
    "def permintaan_turun(x):\n",
    "    return max(0, min((3000 - x) / 3000, 1))\n",
    "\n",
    "def permintaan_tetap(x):\n",
    "    return max(0, min((x - 1000) / 2000, (5000 - x) / 2000))\n",
    "\n",
    "def permintaan_naik(x):\n",
    "    return max(0, min((x - 3000) / 3000, 1))\n",
    "\n",
    "def persediaan_sedikit(x):\n",
    "    return max(0, min((300 - x) / 300, 1))\n",
    "\n",
    "def persediaan_sedang(x):\n",
    "    return max(0, min((x - 100) / 200, (600 - x) / 200))\n",
    "\n",
    "def persediaan_banyak(x):\n",
    "    return max(0, min((x - 400) / 300, 1))\n",
    "\n",
    "# Produksi sebagai nilai crisp (konsekuen tsukamoto)\n",
    "def produksi_berkurang(mu):\n",
    "    return 1000 + (mu * (7000 - 1000))\n",
    "\n",
    "def produksi_bertambah(mu):\n",
    "    return 1000 + (mu * (8000 - 1000))\n",
    "\n",
    "# Inferensi FIS Metode Tsukamoto\n",
    "def tsukamoto(permintaan, persediaan):\n",
    "    # Nilai keanggotaan untuk permintaan\n",
    "    turun = permintaan_turun(permintaan)\n",
    "    tetap = permintaan_tetap(permintaan)\n",
    "    naik = permintaan_naik(permintaan)\n",
    "    \n",
    "    # Nilai keanggotaan untuk persediaan\n",
    "    sedikit = persediaan_sedikit(persediaan)\n",
    "    sedang = persediaan_sedang(persediaan)\n",
    "    banyak = persediaan_banyak(persediaan)\n",
    "\n",
    "    # Rule Fuzzy Tsukamoto\n",
    "    rules = [\n",
    "        (min(turun, sedikit), produksi_berkurang),\n",
    "        (min(turun, sedang), produksi_berkurang),\n",
    "        (min(turun, banyak), produksi_berkurang),\n",
    "        (min(tetap, sedikit), produksi_berkurang),\n",
    "        (min(tetap, sedang), produksi_bertambah),\n",
    "        (min(tetap, banyak), produksi_bertambah),\n",
    "        (min(naik, sedikit), produksi_bertambah),\n",
    "        (min(naik, sedang), produksi_bertambah),\n",
    "        (min(naik, banyak), produksi_bertambah)\n",
    "    ]\n",
    "    \n",
    "    # Hitung hasil defuzzifikasi\n",
    "    numerator = 0\n",
    "    denominator = 0\n",
    "    for mu, konsekuen in rules:\n",
    "        z = konsekuen(mu)  # Produksi crisp dari konsekuen\n",
    "        numerator += mu * z\n",
    "        denominator += mu\n",
    "\n",
    "    return numerator / denominator if denominator != 0 else 0\n",
    "\n",
    "# Input Permintaan & Persediaan\n",
    "permintaan_input = 4000  # contoh nilai permintaan\n",
    "persediaan_input = 300   # contoh nilai persediaan\n",
    "\n",
    "# Hitung output produksi\n",
    "produksi_output = tsukamoto(permintaan_input, persediaan_input)\n",
    "print(f\"Output Produksi: {produksi_output:.2f}\")\n"
   ]
  }
 ],
 "metadata": {
  "kernelspec": {
   "display_name": "Python 3 (ipykernel)",
   "language": "python",
   "name": "python3"
  },
  "language_info": {
   "codemirror_mode": {
    "name": "ipython",
    "version": 3
   },
   "file_extension": ".py",
   "mimetype": "text/x-python",
   "name": "python",
   "nbconvert_exporter": "python",
   "pygments_lexer": "ipython3",
   "version": "3.12.6"
  }
 },
 "nbformat": 4,
 "nbformat_minor": 5
}
